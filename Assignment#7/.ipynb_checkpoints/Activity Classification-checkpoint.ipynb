{
 "cells": [
  {
   "cell_type": "code",
   "execution_count": 3,
   "metadata": {},
   "outputs": [
    {
     "name": "stdout",
     "output_type": "stream",
     "text": [
      "['X' 'Y' 'Z' 'X.average' 'Y.average' 'Z.average']\n"
     ]
    },
    {
     "name": "stderr",
     "output_type": "stream",
     "text": [
      "/usr/local/lib/python3.4/dist-packages/sklearn/utils/validation.py:578: DataConversionWarning: A column-vector y was passed when a 1d array was expected. Please change the shape of y to (n_samples, ), for example using ravel().\n",
      "  y = column_or_1d(y, warn=True)\n"
     ]
    },
    {
     "name": "stdout",
     "output_type": "stream",
     "text": [
      "Error Rate (test data):  7.040547656661402 %\n",
      "Error Rate (train data):  6.6745655608214856 %\n"
     ]
    }
   ],
   "source": [
    "from sklearn.svm import SVC\n",
    "from sklearn.metrics import confusion_matrix\n",
    "from sklearn.pipeline import Pipeline\n",
    "from sklearn.preprocessing import Imputer\n",
    "import pandas as pd\n",
    "import numpy as np\n",
    "import math\n",
    "\n",
    "data_sit = pd.read_csv(\"harshil_sit_assignment7.csv\")\n",
    "data_sleep = pd.read_csv(\"harshil_sleep_assignment7.csv\")\n",
    "data_stand = pd.read_csv(\"harshil_stand_assignment7.csv\")\n",
    "data_walk = pd.read_csv(\"harshil_walk_assignment7.csv\")\n",
    "data_train = []\n",
    "target_train = []\n",
    "data_test = []\n",
    "target_test = []\n",
    "\n",
    "data_label = ['X', 'Y', 'Z']\n",
    "target_label = ['Activity']\n",
    "\n",
    "# Calculate moving window average for all X, Y, Z data and add the result as new column.\n",
    "additional_labels = np.array([])\n",
    "for axis in data_label:\n",
    "    data_sit[axis+'.average'] = pd.Series(data_sit[axis].rolling(10).mean(), index=data_sit.index)\n",
    "    data_sleep[axis+'.average'] = pd.Series(data_sleep[axis].rolling(10).mean(), index=data_sleep.index)\n",
    "    data_stand[axis+'.average'] = pd.Series(data_stand[axis].rolling(10).mean(), index=data_stand.index)\n",
    "    data_walk[axis+'.average'] = pd.Series(data_walk[axis].rolling(10).mean(), index=data_walk.index)\n",
    "    additional_labels = np.append(additional_labels, axis+'.average') # Add the new label to label list\n",
    "data_label = np.concatenate((data_label, additional_labels), axis=0)\n",
    "print(data_label)\n",
    "\n",
    "# Divide the dataset into 2/3 training data and 1/3 test data\n",
    "middle = 18990\n",
    "last = 28485\n",
    "data_train = data_sit[data_label][:middle].values\n",
    "data_test = data_sit[data_label][middle:last].values\n",
    "target_train = data_sit[target_label][:middle].values\n",
    "target_test = data_sit[target_label][middle:last].values\n",
    "\n",
    "data_train = np.concatenate((data_train, data_sleep[data_label][:middle].values) ,axis=0)\n",
    "data_test = np.concatenate((data_test, data_sleep[data_label][middle:last].values) ,axis=0)\n",
    "target_train = np.concatenate((target_train, data_sleep[target_label][:middle].values) ,axis=0)\n",
    "target_test = np.concatenate((target_test, data_sleep[target_label][middle:last].values) ,axis=0)\n",
    "\n",
    "data_train = np.concatenate((data_train, data_stand[data_label][:middle].values) ,axis=0)\n",
    "data_test = np.concatenate((data_test, data_stand[data_label][middle:last].values) ,axis=0)\n",
    "target_train = np.concatenate((target_train, data_stand[target_label][:middle].values) ,axis=0)\n",
    "target_test = np.concatenate((target_test, data_stand[target_label][middle:last].values) ,axis=0)\n",
    "\n",
    "data_train = np.concatenate((data_train, data_walk[data_label][:middle].values), axis=0)\n",
    "data_test = np.concatenate((data_test, data_walk[data_label][middle:last].values), axis=0)\n",
    "target_train = np.concatenate((target_train, data_walk[target_label][:middle].values), axis=0)\n",
    "target_test = np.concatenate((target_test, data_walk[target_label][middle:last].values), axis=0)\n",
    "\n",
    "# Use the train data to train the model and then use the test data to get the error rate of the model\n",
    "estimator = Pipeline([(\"imputer\", Imputer(missing_values='NaN', # Create an estimator that uses SVC\n",
    "                                          strategy=\"mean\",\n",
    "                                          axis=0)),\n",
    "                      (\"svm\", SVC(kernel='rbf', C=1.0))])\n",
    "estimator.fit(data_train, target_train) # Create classification model\n",
    "label_predict = estimator.predict(data_test) # Use test data to predict the activity\n",
    "correct = wrong = 0;\n",
    "for i, label in enumerate(label_predict):\n",
    "    if label == target_test[i]:\n",
    "        correct = correct + 1;\n",
    "    else:\n",
    "        wrong = wrong + 1;\n",
    "error_rate = wrong / (correct + wrong) * 100\n",
    "print('Error Rate (test data): ', error_rate, '%')\n",
    "\n",
    "# Use the train data to train the model and then use the train data to get the error rate of the model\n",
    "label_predict = estimator.predict(data_train) # Use train data to predict the activity\n",
    "correct = wrong = 0;\n",
    "for i, label in enumerate(label_predict):\n",
    "    if label == target_train[i]:\n",
    "        correct = correct + 1;\n",
    "    else:\n",
    "        wrong = wrong + 1;\n",
    "error_rate = wrong / (correct + wrong) * 100\n",
    "print('Error Rate (train data): ', error_rate, '%')"
   ]
  }
 ],
 "metadata": {
  "kernelspec": {
   "display_name": "Python 3",
   "language": "python",
   "name": "python3"
  },
  "language_info": {
   "codemirror_mode": {
    "name": "ipython",
    "version": 3
   },
   "file_extension": ".py",
   "mimetype": "text/x-python",
   "name": "python",
   "nbconvert_exporter": "python",
   "pygments_lexer": "ipython3",
   "version": "3.4.3"
  }
 },
 "nbformat": 4,
 "nbformat_minor": 2
}
